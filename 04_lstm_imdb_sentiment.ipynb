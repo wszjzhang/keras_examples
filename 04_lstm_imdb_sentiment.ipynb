{
 "cells": [
  {
   "cell_type": "markdown",
   "metadata": {},
   "source": [
    "Trains an LSTM model on the IMDB sentiment classification task.\n",
    "The dataset is actually too small for LSTM to be of any advantage\n",
    "compared to simpler, much faster methods such as TF-IDF + LogReg.\n",
    "Notes:\n",
    "\n",
    "- RNNs are tricky. Choice of batch size is important,\n",
    "choice of loss and optimizer is critical, etc.\n",
    "Some configurations won't converge.\n",
    "\n",
    "- LSTM loss decrease patterns during training can be quite different\n",
    "from what you see with CNNs/MLPs/etc."
   ]
  },
  {
   "cell_type": "code",
   "execution_count": 1,
   "metadata": {},
   "outputs": [
    {
     "name": "stderr",
     "output_type": "stream",
     "text": [
      "Using TensorFlow backend.\n"
     ]
    }
   ],
   "source": [
    "from keras.preprocessing import sequence\n",
    "from keras.models import Sequential\n",
    "from keras.layers import Dense, Embedding\n",
    "from keras.layers import LSTM\n",
    "from keras.datasets import imdb"
   ]
  },
  {
   "cell_type": "code",
   "execution_count": 2,
   "metadata": {},
   "outputs": [
    {
     "name": "stdout",
     "output_type": "stream",
     "text": [
      "Loading data...\n",
      "25000 train sequences\n",
      "25000 test sequences\n",
      "Pad sequences (samples x time)\n",
      "x_train shape: (25000, 80)\n",
      "x_test shape: (25000, 80)\n"
     ]
    }
   ],
   "source": [
    "max_features = 20000\n",
    "maxlen = 80  # cut texts after this number of words (among top max_features most common words)\n",
    "batch_size = 32\n",
    "\n",
    "print('Loading data...')\n",
    "(x_train, y_train), (x_test, y_test) = imdb.load_data(num_words=max_features)\n",
    "print(len(x_train), 'train sequences')\n",
    "print(len(x_test), 'test sequences')\n",
    "\n",
    "print('Pad sequences (samples x time)')\n",
    "x_train = sequence.pad_sequences(x_train, maxlen=maxlen)\n",
    "x_test = sequence.pad_sequences(x_test, maxlen=maxlen)\n",
    "print('x_train shape:', x_train.shape)\n",
    "print('x_test shape:', x_test.shape)"
   ]
  },
  {
   "cell_type": "code",
   "execution_count": 3,
   "metadata": {},
   "outputs": [
    {
     "name": "stdout",
     "output_type": "stream",
     "text": [
      "Build model...\n",
      "Train...\n",
      "Train on 25000 samples, validate on 25000 samples\n",
      "Epoch 1/15\n",
      "25000/25000 [==============================] - 97s - loss: 0.4547 - acc: 0.7844 - val_loss: 0.3906 - val_acc: 0.8308\n",
      "Epoch 2/15\n",
      "25000/25000 [==============================] - 93s - loss: 0.2947 - acc: 0.8811 - val_loss: 0.4010 - val_acc: 0.8356\n",
      "Epoch 3/15\n",
      "25000/25000 [==============================] - 93s - loss: 0.2092 - acc: 0.9208 - val_loss: 0.4188 - val_acc: 0.8204\n",
      "Epoch 4/15\n",
      "25000/25000 [==============================] - 95s - loss: 0.1445 - acc: 0.9459 - val_loss: 0.5361 - val_acc: 0.8292\n",
      "Epoch 5/15\n",
      "25000/25000 [==============================] - 94s - loss: 0.1067 - acc: 0.9622 - val_loss: 0.5995 - val_acc: 0.8291\n",
      "Epoch 6/15\n",
      "25000/25000 [==============================] - 94s - loss: 0.0783 - acc: 0.9730 - val_loss: 0.5905 - val_acc: 0.8196\n",
      "Epoch 7/15\n",
      "25000/25000 [==============================] - 94s - loss: 0.0516 - acc: 0.9822 - val_loss: 0.6713 - val_acc: 0.8146\n",
      "Epoch 8/15\n",
      "25000/25000 [==============================] - 94s - loss: 0.0392 - acc: 0.9872 - val_loss: 0.8407 - val_acc: 0.8200\n",
      "Epoch 9/15\n",
      "25000/25000 [==============================] - 94s - loss: 0.0315 - acc: 0.9901 - val_loss: 0.9127 - val_acc: 0.8176\n",
      "Epoch 10/15\n",
      "25000/25000 [==============================] - 96s - loss: 0.0248 - acc: 0.9921 - val_loss: 0.9214 - val_acc: 0.8110\n",
      "Epoch 11/15\n",
      "25000/25000 [==============================] - 97s - loss: 0.0256 - acc: 0.9917 - val_loss: 0.8809 - val_acc: 0.8128\n",
      "Epoch 12/15\n",
      "25000/25000 [==============================] - 96s - loss: 0.0188 - acc: 0.9944 - val_loss: 0.9365 - val_acc: 0.8119\n",
      "Epoch 13/15\n",
      "25000/25000 [==============================] - 94s - loss: 0.0143 - acc: 0.9958 - val_loss: 0.9804 - val_acc: 0.8117\n",
      "Epoch 14/15\n",
      "25000/25000 [==============================] - 96s - loss: 0.0138 - acc: 0.9958 - val_loss: 1.0102 - val_acc: 0.8106\n",
      "Epoch 15/15\n",
      "25000/25000 [==============================] - 222s - loss: 0.0082 - acc: 0.9974 - val_loss: 1.1340 - val_acc: 0.8116\n",
      "24992/25000 [============================>.] - ETA: 0sTest score: 1.13397983634\n",
      "Test accuracy: 0.81156\n"
     ]
    }
   ],
   "source": [
    "print('Build model...')\n",
    "model = Sequential()\n",
    "model.add(Embedding(max_features, 128))\n",
    "model.add(LSTM(128, dropout=0.2, recurrent_dropout=0.2))\n",
    "model.add(Dense(1, activation='sigmoid'))\n",
    "\n",
    "# try using different optimizers and different optimizer configs\n",
    "model.compile(loss='binary_crossentropy',\n",
    "              optimizer='adam',\n",
    "              metrics=['accuracy'])\n",
    "\n",
    "print('Train...')\n",
    "model.fit(x_train, y_train,\n",
    "          batch_size=batch_size,\n",
    "          epochs=15,\n",
    "          validation_data=(x_test, y_test))\n",
    "score, acc = model.evaluate(x_test, y_test,\n",
    "                            batch_size=batch_size)\n",
    "print('Test score:', score)\n",
    "print('Test accuracy:', acc)"
   ]
  },
  {
   "cell_type": "code",
   "execution_count": 5,
   "metadata": {},
   "outputs": [
    {
     "data": {
      "text/plain": [
       "array([[ 0.99999034],\n",
       "       [ 0.99823976]], dtype=float32)"
      ]
     },
     "execution_count": 5,
     "metadata": {},
     "output_type": "execute_result"
    }
   ],
   "source": [
    "model.predict(x_test[:2])"
   ]
  },
  {
   "cell_type": "code",
   "execution_count": 6,
   "metadata": {
    "scrolled": true
   },
   "outputs": [
    {
     "data": {
      "text/plain": [
       "array([[    0,     0,     0,     0,     0,     0,     0,     0,     1,\n",
       "           89,    27,     2,  9289,    17,   199,   132,     5,  4191,\n",
       "           16,  1339,    24,     8,   760,     4,  1385,     7,     4,\n",
       "           22,  1368, 11415,    16,  5149,    17,  1635,     7,     2,\n",
       "         1368,     9,     4,  1357,     8,    14,   991,    13,   877,\n",
       "           38,    19,    27,   239,    13,   100,   235,    61,   483,\n",
       "        11960,     4,     7,     4,    20,   131,  1102,    72,     8,\n",
       "           14,   251,    27,  1146,     7,   308,    16,   735,  1517,\n",
       "           17,    29,   144,    28,    77,  2305,    18,    12],\n",
       "       [   17,    29, 14578,     4,    31,  2433,    46,    13,    82,\n",
       "           40,     4,   139,    19,     2,    33,     4,   454,   169,\n",
       "           41,    55,  1279,    54,   442,  1658,    32,    15,  7717,\n",
       "         5745,    13,   191,    30,     4,    64,    31,  1348,    13,\n",
       "         1276,   104,  3452,     7, 16495,     9,     6,   777,    22,\n",
       "          964,   722,    39,   380,     8,  1363,    87,  1285,   189,\n",
       "           11,  3215,  4160,    33,    64,  7304,   234,   196,    12,\n",
       "          115,   461,   357,    42,   753,     6,   965,  1640,     7,\n",
       "         1923,   106,    12,    17,   515,    17,    25,    70]])"
      ]
     },
     "execution_count": 6,
     "metadata": {},
     "output_type": "execute_result"
    }
   ],
   "source": [
    "x_test[:2]"
   ]
  },
  {
   "cell_type": "code",
   "execution_count": null,
   "metadata": {
    "collapsed": true
   },
   "outputs": [],
   "source": []
  }
 ],
 "metadata": {
  "hide_input": false,
  "kernelspec": {
   "display_name": "Python 3",
   "language": "python",
   "name": "python3"
  },
  "language_info": {
   "codemirror_mode": {
    "name": "ipython",
    "version": 3
   },
   "file_extension": ".py",
   "mimetype": "text/x-python",
   "name": "python",
   "nbconvert_exporter": "python",
   "pygments_lexer": "ipython3",
   "version": "3.5.2"
  },
  "toc": {
   "nav_menu": {},
   "number_sections": true,
   "sideBar": true,
   "skip_h1_title": false,
   "toc_cell": false,
   "toc_position": {},
   "toc_section_display": "block",
   "toc_window_display": false
  },
  "widgets": {
   "state": {},
   "version": "1.1.2"
  }
 },
 "nbformat": 4,
 "nbformat_minor": 2
}
