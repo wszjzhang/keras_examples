{
 "cells": [
  {
   "cell_type": "markdown",
   "metadata": {},
   "source": [
    "Compare LSTM implementations on the IMDB sentiment classification task.\n",
    "\n",
    "implementation=0 preprocesses input to the LSTM which typically results in\n",
    "faster computations at the expense of increased peak memory usage as the\n",
    "preprocessed input must be kept in memory.\n",
    "\n",
    "implementation=1 does away with the preprocessing, meaning that it might take\n",
    "a little longer, but should require less peak memory.\n",
    "\n",
    "implementation=2 concatenates the input, output and forget gate's weights\n",
    "into one, large matrix, resulting in faster computation time as the GPU can\n",
    "utilize more cores, at the expense of reduced regularization because the same\n",
    "dropout is shared across the gates.\n",
    "\n",
    "Note that the relative performance of the different implementations can\n",
    "vary depending on your device, your model and the size of your data."
   ]
  },
  {
   "cell_type": "code",
   "execution_count": 1,
   "metadata": {},
   "outputs": [
    {
     "name": "stderr",
     "output_type": "stream",
     "text": [
      "Using TensorFlow backend.\n"
     ]
    }
   ],
   "source": [
    "import time\n",
    "import numpy as np\n",
    "import matplotlib.pyplot as plt\n",
    "\n",
    "from keras.preprocessing import sequence\n",
    "from keras.models import Sequential\n",
    "from keras.layers import Embedding, Dense, LSTM, Dropout\n",
    "from keras.datasets import imdb"
   ]
  },
  {
   "cell_type": "code",
   "execution_count": 2,
   "metadata": {},
   "outputs": [
    {
     "name": "stdout",
     "output_type": "stream",
     "text": [
      "Loading data...\n"
     ]
    }
   ],
   "source": [
    "max_features = 20000\n",
    "max_length = 80\n",
    "embedding_dim = 256\n",
    "batch_size = 128\n",
    "epochs = 10\n",
    "modes = [0, 1, 2]\n",
    "\n",
    "print('Loading data...')\n",
    "(X_train, y_train), (X_test, y_test) = imdb.load_data(num_words=max_features)\n",
    "X_train = sequence.pad_sequences(X_train, max_length)\n",
    "X_test = sequence.pad_sequences(X_test, max_length)"
   ]
  },
  {
   "cell_type": "code",
   "execution_count": 12,
   "metadata": {},
   "outputs": [],
   "source": [
    "imbd_dat = imdb.load_data()"
   ]
  },
  {
   "cell_type": "code",
   "execution_count": 13,
   "metadata": {},
   "outputs": [
    {
     "data": {
      "text/plain": [
       "tuple"
      ]
     },
     "execution_count": 13,
     "metadata": {},
     "output_type": "execute_result"
    }
   ],
   "source": [
    "type(imbd_dat)"
   ]
  },
  {
   "cell_type": "code",
   "execution_count": 6,
   "metadata": {},
   "outputs": [
    {
     "name": "stdout",
     "output_type": "stream",
     "text": [
      "Testing mode: implementation=0\n",
      "Train on 25000 samples, validate on 25000 samples\n",
      "Epoch 1/10\n",
      "25000/25000 [==============================] - 28s - loss: 0.4638 - acc: 0.7783 - val_loss: 0.3742 - val_acc: 0.8352\n",
      "Epoch 2/10\n",
      "25000/25000 [==============================] - 25s - loss: 0.2928 - acc: 0.8823 - val_loss: 0.3760 - val_acc: 0.8318\n",
      "Epoch 3/10\n",
      "25000/25000 [==============================] - 24s - loss: 0.2267 - acc: 0.9119 - val_loss: 0.5202 - val_acc: 0.8027\n",
      "Epoch 4/10\n",
      "25000/25000 [==============================] - 24s - loss: 0.1708 - acc: 0.9363 - val_loss: 0.4898 - val_acc: 0.8102\n",
      "Epoch 5/10\n",
      "25000/25000 [==============================] - 25s - loss: 0.1273 - acc: 0.9535 - val_loss: 0.5042 - val_acc: 0.8204\n",
      "Epoch 6/10\n",
      "25000/25000 [==============================] - 26s - loss: 0.1019 - acc: 0.9626 - val_loss: 0.6858 - val_acc: 0.8188\n",
      "Epoch 7/10\n",
      "25000/25000 [==============================] - 25s - loss: 0.0837 - acc: 0.9706 - val_loss: 0.5923 - val_acc: 0.8020\n",
      "Epoch 8/10\n",
      "25000/25000 [==============================] - 25s - loss: 0.0649 - acc: 0.9776 - val_loss: 0.7428 - val_acc: 0.8153\n",
      "Epoch 9/10\n",
      "25000/25000 [==============================] - 27s - loss: 0.0464 - acc: 0.9837 - val_loss: 0.7563 - val_acc: 0.8106\n",
      "Epoch 10/10\n",
      "25000/25000 [==============================] - 26s - loss: 0.0404 - acc: 0.9872 - val_loss: 0.8723 - val_acc: 0.8118\n",
      "Testing mode: implementation=1\n",
      "Train on 25000 samples, validate on 25000 samples\n",
      "Epoch 1/10\n",
      "25000/25000 [==============================] - 30s - loss: 0.4683 - acc: 0.7762 - val_loss: 0.3794 - val_acc: 0.8318\n",
      "Epoch 2/10\n",
      "25000/25000 [==============================] - 29s - loss: 0.3066 - acc: 0.8764 - val_loss: 0.3724 - val_acc: 0.8333\n",
      "Epoch 3/10\n",
      "25000/25000 [==============================] - 29s - loss: 0.2275 - acc: 0.9131 - val_loss: 0.4021 - val_acc: 0.8337\n",
      "Epoch 4/10\n",
      "25000/25000 [==============================] - 29s - loss: 0.1656 - acc: 0.9384 - val_loss: 0.4979 - val_acc: 0.8261\n",
      "Epoch 5/10\n",
      "25000/25000 [==============================] - 30s - loss: 0.1255 - acc: 0.9543 - val_loss: 0.5308 - val_acc: 0.8164\n",
      "Epoch 6/10\n",
      "25000/25000 [==============================] - 29s - loss: 0.0970 - acc: 0.9647 - val_loss: 0.6018 - val_acc: 0.8227\n",
      "Epoch 7/10\n",
      "25000/25000 [==============================] - 30s - loss: 0.0759 - acc: 0.9730 - val_loss: 0.6405 - val_acc: 0.8140\n",
      "Epoch 8/10\n",
      "25000/25000 [==============================] - 31s - loss: 0.0546 - acc: 0.9811 - val_loss: 0.7519 - val_acc: 0.8128\n",
      "Epoch 9/10\n",
      "25000/25000 [==============================] - 30s - loss: 0.0449 - acc: 0.9852 - val_loss: 0.8148 - val_acc: 0.8109\n",
      "Epoch 10/10\n",
      "25000/25000 [==============================] - 29s - loss: 0.0372 - acc: 0.9870 - val_loss: 0.8115 - val_acc: 0.8112\n",
      "Testing mode: implementation=2\n",
      "Train on 25000 samples, validate on 25000 samples\n",
      "Epoch 1/10\n",
      "25000/25000 [==============================] - 26s - loss: 0.4699 - acc: 0.7722 - val_loss: 0.3739 - val_acc: 0.8332\n",
      "Epoch 2/10\n",
      "25000/25000 [==============================] - 25s - loss: 0.3024 - acc: 0.8774 - val_loss: 0.3712 - val_acc: 0.8362\n",
      "Epoch 3/10\n",
      "25000/25000 [==============================] - 25s - loss: 0.2264 - acc: 0.9145 - val_loss: 0.4154 - val_acc: 0.8288\n",
      "Epoch 4/10\n",
      "25000/25000 [==============================] - 25s - loss: 0.1844 - acc: 0.9309 - val_loss: 0.4660 - val_acc: 0.8271\n",
      "Epoch 5/10\n",
      "25000/25000 [==============================] - 25s - loss: 0.1313 - acc: 0.9524 - val_loss: 0.5273 - val_acc: 0.8140\n",
      "Epoch 6/10\n",
      "25000/25000 [==============================] - 25s - loss: 0.1030 - acc: 0.9640 - val_loss: 0.5958 - val_acc: 0.8097\n",
      "Epoch 7/10\n",
      "25000/25000 [==============================] - 25s - loss: 0.0859 - acc: 0.9699 - val_loss: 0.6803 - val_acc: 0.8118\n",
      "Epoch 8/10\n",
      "25000/25000 [==============================] - 25s - loss: 0.0743 - acc: 0.9735 - val_loss: 0.7367 - val_acc: 0.8118\n",
      "Epoch 9/10\n",
      "25000/25000 [==============================] - 25s - loss: 0.0519 - acc: 0.9824 - val_loss: 0.7522 - val_acc: 0.8099\n",
      "Epoch 10/10\n",
      "25000/25000 [==============================] - 25s - loss: 0.0429 - acc: 0.9856 - val_loss: 0.7783 - val_acc: 0.8063\n"
     ]
    }
   ],
   "source": [
    "# Compile and train different models while measuring performance.\n",
    "results = []\n",
    "for mode in modes:\n",
    "    print('Testing mode: implementation={}'.format(mode))\n",
    "\n",
    "    model = Sequential()\n",
    "    model.add(Embedding(max_features, embedding_dim,\n",
    "                        input_length=max_length))\n",
    "    model.add(Dropout(0.2))\n",
    "    model.add(LSTM(embedding_dim,\n",
    "                   dropout=0.2,\n",
    "                   recurrent_dropout=0.2,\n",
    "                   implementation=mode))\n",
    "    model.add(Dense(1, activation='sigmoid'))\n",
    "    model.compile(loss='binary_crossentropy',\n",
    "                  optimizer='adam',\n",
    "                  metrics=['accuracy'])\n",
    "\n",
    "    start_time = time.time()\n",
    "    history = model.fit(X_train, y_train,\n",
    "                        batch_size=batch_size,\n",
    "                        epochs=epochs,\n",
    "                        validation_data=(X_test, y_test))\n",
    "    average_time_per_epoch = (time.time() - start_time) / epochs\n",
    "\n",
    "    results.append((history, average_time_per_epoch))"
   ]
  },
  {
   "cell_type": "code",
   "execution_count": 7,
   "metadata": {},
   "outputs": [
    {
     "data": {
      "image/png": "[encoded data removed]",
      "text/plain": [
       "<matplotlib.figure.Figure at 0x16749ff8940>"
      ]
     },
     "metadata": {},
     "output_type": "display_data"
    }
   ],
   "source": [
    "# Compare models' accuracy, loss and elapsed time per epoch.\n",
    "plt.style.use('ggplot')\n",
    "ax1 = plt.subplot2grid((2, 2), (0, 0))\n",
    "ax1.set_title('Accuracy')\n",
    "ax1.set_ylabel('Validation Accuracy')\n",
    "ax1.set_xlabel('Epochs')\n",
    "ax2 = plt.subplot2grid((2, 2), (1, 0))\n",
    "ax2.set_title('Loss')\n",
    "ax2.set_ylabel('Validation Loss')\n",
    "ax2.set_xlabel('Epochs')\n",
    "ax3 = plt.subplot2grid((2, 2), (0, 1), rowspan=2)\n",
    "ax3.set_title('Time')\n",
    "ax3.set_ylabel('Seconds')\n",
    "for mode, result in zip(modes, results):\n",
    "    ax1.plot(result[0].epoch, result[0].history['val_acc'], label=mode)\n",
    "    ax2.plot(result[0].epoch, result[0].history['val_loss'], label=mode)\n",
    "ax1.legend()\n",
    "ax2.legend()\n",
    "ax3.bar(np.arange(len(results)), [x[1] for x in results],\n",
    "        tick_label=modes, align='center')\n",
    "plt.tight_layout()\n",
    "plt.show()"
   ]
  },
  {
   "cell_type": "code",
   "execution_count": null,
   "metadata": {
    "collapsed": true
   },
   "outputs": [],
   "source": []
  }
 ],
 "metadata": {
  "hide_input": false,
  "kernelspec": {
   "display_name": "Python 3",
   "language": "python",
   "name": "python3"
  },
  "language_info": {
   "codemirror_mode": {
    "name": "ipython",
    "version": 3
   },
   "file_extension": ".py",
   "mimetype": "text/x-python",
   "name": "python",
   "nbconvert_exporter": "python",
   "pygments_lexer": "ipython3",
   "version": "3.5.2"
  },
  "toc": {
   "nav_menu": {},
   "number_sections": true,
   "sideBar": true,
   "skip_h1_title": false,
   "toc_cell": false,
   "toc_position": {},
   "toc_section_display": "block",
   "toc_window_display": false
  },
  "widgets": {
   "state": {},
   "version": "1.1.2"
  }
 },
 "nbformat": 4,
 "nbformat_minor": 2
}
